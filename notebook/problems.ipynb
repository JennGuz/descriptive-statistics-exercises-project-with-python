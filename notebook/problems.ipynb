{
    "cells": [
        {
            "cell_type": "markdown",
            "id": "ac622319",
            "metadata": {},
            "source": [
                "# Descriptive statistics problems"
            ]
        },
        {
            "cell_type": "markdown",
            "id": "5e0ab0d5",
            "metadata": {},
            "source": [
                "### Exercise 1\n",
                "\n",
                "We will use NumPy to obtain information to describe statistically.\n",
                "\n",
                "- Generate an array of 100 elements following a normal distribution.\n",
                "- Generate an array of 100 elements following a chi-square distribution with 3 degrees of freedom.\n",
                "- Calculate the main metrics and statistical measures that best describe the two vectors."
            ]
        },
        {
            "cell_type": "code",
            "execution_count": 3,
            "id": "34720ab6",
            "metadata": {},
            "outputs": [
                {
                    "name": "stdout",
                    "output_type": "stream",
                    "text": [
                        "[ 0.98539353 -1.17473639 -1.1216454   0.23641288  1.52702487  1.50707291\n",
                        "  0.32730714 -0.65429194 -0.23512251 -1.56412998  2.05862008 -0.62612981\n",
                        " -1.72738206 -0.74924977 -1.18393221 -0.1853303   0.21611002  0.57712515\n",
                        " -0.2244484  -0.32569452  1.75328416  0.64033299  1.38209398 -0.24704167\n",
                        " -0.5470138  -0.17622541  0.21073565  0.43752407  1.89121859  1.16661576\n",
                        " -0.53753878  1.18544492  0.62406398 -1.58047656 -0.21926321 -1.71522581\n",
                        "  0.31015435 -0.91067363  0.82156658 -1.01344826 -0.72048379  1.32776517\n",
                        "  0.03773724  0.39571667  2.49543466  0.51938327  0.96600105 -0.80122005\n",
                        " -0.10571306  0.04880553 -0.1285826   1.68817525  0.73693851 -0.26248602\n",
                        "  2.52839098  0.38355104  1.15110488 -0.77286881 -0.6576285  -1.37397446\n",
                        "  0.66375564 -1.10832794 -0.67848498  0.34579069 -0.05554649 -1.37287566\n",
                        " -3.12442104  0.30729548 -1.51014965 -0.61874449 -1.18695272  0.41393724\n",
                        " -0.08989561 -0.31140433 -0.21311425 -0.28543471  0.86014656  0.82858897\n",
                        " -0.3240358   0.72254391 -1.56329643 -1.85522367 -0.83200358  0.3335777\n",
                        "  0.34959577  0.918995   -0.44780272 -1.09579553  0.34632367 -0.46723498\n",
                        " -0.27563892  0.49303953  1.17600828  2.00385364 -1.59949237  1.41496788\n",
                        "  0.19409027  0.96299604  1.4718348   0.07433474]\n"
                    ]
                }
            ],
            "source": [
                "# TODO\n",
                "import numpy as np\n",
                "\n",
                "media = 0\n",
                "standard_deviation = 1\n",
                "\n",
                "arr = np.random.normal(media, standard_deviation, 100)\n",
                "print(arr)\n",
                "\n"
            ]
        },
        {
            "cell_type": "code",
            "execution_count": 10,
            "id": "783812b9",
            "metadata": {},
            "outputs": [
                {
                    "name": "stdout",
                    "output_type": "stream",
                    "text": [
                        "[ 2.85895535  0.83297975  1.41474032  1.09898203  0.77593439  5.07298515\n",
                        "  9.64214989  2.68210599  8.82037647  2.23864106  0.03923992  1.08594808\n",
                        "  1.40090587  4.57948564  6.73522797  0.84910931  7.38542728  1.62776335\n",
                        "  1.72823108  0.69269113  8.12675919  2.96017179  2.11181547  0.13896838\n",
                        "  7.03237404  0.61037497  1.1275282   0.1106242   1.70471999  0.86855524\n",
                        "  1.07179343  1.1664082   8.8772263   1.50189009  2.19624288 13.24175515\n",
                        "  1.73682044  8.14078067  3.8565233   4.71549276  2.36969958  2.24851072\n",
                        "  3.17110064  3.46920225  0.74820537  0.53133567  4.84584157  3.14229724\n",
                        "  3.70496304  0.75661466  0.90068225  1.70774001  1.71674517  0.06810394\n",
                        " 11.41285176  0.67584214  0.81747173  1.1008455  10.11351192  1.05755647\n",
                        "  0.83202935  3.74353092  2.41254976  1.97196912  1.31982531  5.6938994\n",
                        "  6.76431938  3.38216295  0.05350245  3.44962563  3.25341514  2.95754986\n",
                        "  6.17206618  2.74760302  3.41299393  0.94820888  2.4066727   0.02484715\n",
                        "  1.56107843 11.13652497  3.71542573  2.16568018  2.09685187  5.39518271\n",
                        "  5.42417852  3.77299453  0.77886621  0.36516319  0.53494612  2.96605427\n",
                        "  2.03061522  1.59356768  7.69667634  1.35208398  2.38196917  1.52177833\n",
                        "  3.9476177   0.16106453  0.25598597  0.89067987]\n"
                    ]
                }
            ],
            "source": [
                "from scipy.stats import chi2\n",
                "\n",
                "degrees_of_freedom = 3\n",
                "\n",
                "chi_square_arr = chi2.rvs(df=degrees_of_freedom, size=100)\n",
                "\n",
                "print(chi_square_arr)"
            ]
        },
        {
            "cell_type": "code",
            "execution_count": 11,
            "id": "dac726b8",
            "metadata": {},
            "outputs": [
                {
                    "name": "stdout",
                    "output_type": "stream",
                    "text": [
                        "Metrics for the normal distribution vector: \n",
                        "Media: 0.034609480680014196\n",
                        "Mediana: -0.00890462283673667\n",
                        "Standard deviation: 1.0517144881089717\n",
                        "Variance: 1.1061033644983165\n",
                        "Range: 5.652812022260397\n",
                        "Quartiles: [-0.66284262 -0.00890462  0.72614256]\n",
                        "\n",
                        "Metrics for the chi-square distribution vector: \n",
                        "Media: 3.007095830126994\n",
                        "Mediana: 2.1043336726386865\n",
                        "Standard deviation: 2.8482073945769546\n",
                        "Variance: 8.112285362522844\n",
                        "Range: 13.216908000907637\n",
                        "Quartiles: [0.93632723 2.10433367 3.75089682]\n"
                    ]
                }
            ],
            "source": [
                "def calculate_metrics(vector):\n",
                "    metrics = {\n",
                "        'Media': np.mean(vector),\n",
                "        'Mediana': np.median(vector),\n",
                "        'Standard deviation': np.std(vector),\n",
                "        'Variance': np.var(vector),\n",
                "        'Range': np.ptp(vector),\n",
                "        'Quartiles': np.percentile(vector, [25, 50, 75])\n",
                "    } \n",
                "    return metrics\n",
                "    \n",
                "normal_arr_metrics = calculate_metrics(arr)\n",
                "chi_square_arr_metrics = calculate_metrics(chi_square_arr)\n",
                "\n",
                "print(\"Metrics for the normal distribution vector: \")\n",
                "for key, value in normal_arr_metrics.items():\n",
                "    print(f\"{key}: {value}\")\n",
                "    \n",
                "print(\"\\nMetrics for the chi-square distribution vector: \")\n",
                "for key, value in chi_square_arr_metrics.items():\n",
                "    print(f\"{key}: {value}\")\n",
                "\n"
            ]
        },
        {
            "cell_type": "markdown",
            "id": "46c70c3d",
            "metadata": {},
            "source": [
                "### Exercise 2\n",
                "\n",
                "Write a Python program to calculate the standard deviation of the following data:\n",
                "\n",
                "```py\n",
                "data = [4, 2, 5, 8, 6]\n",
                "```"
            ]
        },
        {
            "cell_type": "code",
            "execution_count": 13,
            "id": "d590308e",
            "metadata": {},
            "outputs": [
                {
                    "name": "stdout",
                    "output_type": "stream",
                    "text": [
                        "2.0\n"
                    ]
                }
            ],
            "source": [
                "# TODO\n",
                "data = [4, 2, 5, 8, 6]\n",
                "\n",
                "standard_deviation_of_data = np.std(data)\n",
                "\n",
                "print(standard_deviation_of_data)"
            ]
        }
    ],
    "metadata": {
        "interpreter": {
            "hash": "9248718ffe6ce6938b217e69dbcc175ea21f4c6b28a317e96c05334edae734bb"
        },
        "kernelspec": {
            "display_name": "Python 3.9.12 ('ML-BOOTCAMP')",
            "language": "python",
            "name": "python3"
        },
        "language_info": {
            "codemirror_mode": {
                "name": "ipython",
                "version": 3
            },
            "file_extension": ".py",
            "mimetype": "text/x-python",
            "name": "python",
            "nbconvert_exporter": "python",
            "pygments_lexer": "ipython3",
            "version": "3.11.4"
        }
    },
    "nbformat": 4,
    "nbformat_minor": 5
}
